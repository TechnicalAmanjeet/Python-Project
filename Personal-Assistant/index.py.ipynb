{
 "cells": [
  {
   "cell_type": "code",
   "execution_count": null,
   "metadata": {},
   "outputs": [],
   "source": [
    "import pyttsx3\n",
    "import os\n",
    "\n",
    "while(1):\n",
    "    os.system('clear')\n",
    "    \n",
    "    print(\"\"\"      ************* Menu Program ************\n",
    "    \n",
    "             press 1 : To open google chrome\n",
    "             press 2 : To open notepad\n",
    "             press 3 : To open Matlab\n",
    "             press 4 : To Exit\n",
    "             press 5 : Ms-office\n",
    "    \n",
    "    \"\"\")\n",
    "    \n",
    "    user_choice = int(input(\"what do you want to run : \"))\n",
    "    \n",
    "    if user_choice == 1:\n",
    "        if os.system(\"chrome\")==1:\n",
    "            print(\"'chrome' is not recognized as an internal or external command, operable program or batch file.\")\n",
    "        pyttsx3.speak(\"\\n Press Enter to continue...\")\n",
    "        input(\"\\n Press Enter to continue...\")\n",
    "            \n",
    "    elif user_choice == 2:\n",
    "        if os.system(\"notepad\")==1:\n",
    "            print(\"'notepad' is not recognized as an internal or external command, operable program or batch file.\")\n",
    "            input(\"\\n Press Enter to continue...\")\n",
    "            \n",
    "    elif user_choice == 3:\n",
    "        if os.system(\"matlab\")==1:\n",
    "            print(\"'matlab' is not recognized as an internal or external command, operable program or batch file.\")\n",
    "            input(\"\\n Press Enter to continue...\")\n",
    "            \n",
    "    elif user_choice == 5:\n",
    "        if os.system(\"msoffice\")==1:\n",
    "            print(\" 'msoffice' is not recognized as an internal or external command, operable program or batch file.\")\n",
    "            pyttsx3.speak(\"'msoffice' is not recognized as an internal or external command, operable program or batch file.\")\n",
    "\n",
    "            input(\"\\n Press Enter to Continue... \")\n",
    "        \n",
    "    else:\n",
    "        break\n",
    "\n"
   ]
  },
  {
   "cell_type": "code",
   "execution_count": null,
   "metadata": {},
   "outputs": [],
   "source": []
  }
 ],
 "metadata": {
  "kernelspec": {
   "display_name": "Python 3",
   "language": "python",
   "name": "python3"
  },
  "language_info": {
   "codemirror_mode": {
    "name": "ipython",
    "version": 3
   },
   "file_extension": ".py",
   "mimetype": "text/x-python",
   "name": "python",
   "nbconvert_exporter": "python",
   "pygments_lexer": "ipython3",
   "version": "3.8.5"
  }
 },
 "nbformat": 4,
 "nbformat_minor": 4
}
